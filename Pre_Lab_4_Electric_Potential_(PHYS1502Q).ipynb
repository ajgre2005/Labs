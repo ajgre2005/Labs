{
  "nbformat": 4,
  "nbformat_minor": 0,
  "metadata": {
    "anaconda-cloud": {},
    "kernelspec": {
      "name": "python3",
      "display_name": "Python 3"
    },
    "colab": {
      "provenance": [],
      "collapsed_sections": [
        "xv1AVh_nonyv"
      ],
      "include_colab_link": true
    },
    "language_info": {
      "name": "python"
    }
  },
  "cells": [
    {
      "cell_type": "markdown",
      "metadata": {
        "id": "view-in-github",
        "colab_type": "text"
      },
      "source": [
        "<a href=\"https://colab.research.google.com/github/ajgre2005/Labs/blob/main/Pre_Lab_4_Electric_Potential_(PHYS1502Q).ipynb\" target=\"_parent\"><img src=\"https://colab.research.google.com/assets/colab-badge.svg\" alt=\"Open In Colab\"/></a>"
      ]
    },
    {
      "cell_type": "markdown",
      "metadata": {
        "id": "jm85O_dFeARu"
      },
      "source": [
        "<h1><center> $\\text{Pre-Lab 4: Electric Potential}$</center></h1>"
      ]
    },
    {
      "cell_type": "code",
      "metadata": {
        "cellView": "form",
        "id": "kbGt9rfWB8yl"
      },
      "source": [
        "#@title <font color=\"red\"> Make a copy of this file before proceeding!\n",
        "Section = \"Select your section\" # @param [\"Select your section\", \"001 - MoWeTh 10:10am-12:05pm\", \"002 - MoWeTh 12:20pm-2:15pm\", \"003 - MoWeTh 2:30pm-4:25pm\", \"004 - MoWeTh 4:40pm-6:35pm\", \"005 - TuThFr 8am-9:55am\", \"006 - TuThFr 10:10am-12:05pm\", \"007 - TuThFr 12:20pm-2:15pm\"]\n",
        "Name = \"\" #@param {type:\"string\"}"
      ],
      "execution_count": null,
      "outputs": []
    },
    {
      "cell_type": "markdown",
      "metadata": {
        "id": "rrl3Gf8keASD"
      },
      "source": [
        "Use the information in the Electric Potential Introduction section of your lab manual to answer the following questions."
      ]
    },
    {
      "cell_type": "code",
      "source": [
        "#@title Run this cell to create an electric potential contour plot.\n",
        "import numpy as np\n",
        "import matplotlib.pyplot as plt\n",
        "from mpl_toolkits.mplot3d import Axes3D\n",
        "\n",
        "def V2(x,y):\n",
        "  L=10.5\n",
        "  return np.log((x+.5+L)/(x+.5))/L\n",
        "\n",
        "Vplot = np.zeros((40,40))\n",
        "\n",
        "for i in range(40):\n",
        "  for j in range(40):\n",
        "    Vplot[j][i] = V2(i,j)\n",
        "\n",
        "plt.contour(Vplot,100)\n",
        "plt.xlabel(\"x position (m)\")\n",
        "plt.ylabel(\"y position (m)\")\n",
        "plt.show()\n",
        "\n",
        "X = np.arange(0,40)\n",
        "Y = np.arange(0,40)\n",
        "X, Y = np.meshgrid(X, Y)\n",
        "fig = plt.figure()\n",
        "ax = plt.axes(projection='3d')\n",
        "ax.contour3D(X, Y, Vplot, 50, cmap='viridis')\n",
        "surf = ax.plot_surface(X, Y, Vplot, rstride=1, cstride=1, cmap='viridis', linewidth=0, antialiased=False)\n",
        "ax.set_zlim(-1.01, 1.01)\n",
        "ax.set_xlabel('x position (m)')\n",
        "ax.set_ylabel('y position (m)')\n",
        "ax.set_zlabel('electric potential (V)')\n",
        "ax.set_box_aspect(None, zoom=0.9)\n",
        "\n",
        "fig.colorbar(surf, shrink=0.5, aspect=5)\n",
        "plt.show()"
      ],
      "metadata": {
        "cellView": "form",
        "id": "WSvCmI-EDpeX"
      },
      "execution_count": null,
      "outputs": []
    },
    {
      "cell_type": "markdown",
      "source": [
        "The contour plot above shows a countor plot for the electric potential produced by a given charge configuration, which is located at x=0.\n",
        "\n",
        "For PL Questions 1-3 below, your answers should address only the electric potential shown on the plot, which lies within the range 0m < x < 40m."
      ],
      "metadata": {
        "id": "HIuCNdDQjeqa"
      }
    },
    {
      "cell_type": "markdown",
      "metadata": {
        "id": "ggex7_I7xrCG"
      },
      "source": [
        "> **PL Q1. Which direction is the electric field pointed?**  "
      ]
    },
    {
      "cell_type": "code",
      "metadata": {
        "id": "9ZZWd8lCJM6M",
        "cellView": "form"
      },
      "source": [
        "PL_Q1 = \"\" #@param {type:\"string\"}\n",
        "\n"
      ],
      "execution_count": null,
      "outputs": []
    },
    {
      "cell_type": "markdown",
      "metadata": {
        "id": "4bFAD0WpxwNB"
      },
      "source": [
        "> **PL Q2. Where does the _electric field_ have the greatest magnitude? What is the approximate magnitude (with units!) of the _electric potential_ at this location?**"
      ]
    },
    {
      "cell_type": "code",
      "metadata": {
        "id": "iLiqdxIJHgNU",
        "cellView": "form"
      },
      "source": [
        "PL_Q2 = \"\" #@param {type:\"string\"}\n",
        "\n"
      ],
      "execution_count": null,
      "outputs": []
    },
    {
      "cell_type": "markdown",
      "metadata": {
        "id": "_9fHCX2WE25-"
      },
      "source": [
        "> **PL Q3. What is the charge sign and configuration that would produce this electric potential?  Is it a point charge?  Line charge?  Circular charge?  Or some sort of combination of different kinds of charge?**"
      ]
    },
    {
      "cell_type": "code",
      "metadata": {
        "id": "PXHUvq7kHgmc",
        "cellView": "form"
      },
      "source": [
        "PL_Q3 = \"\" #@param {type:\"string\"}\n",
        "\n"
      ],
      "execution_count": null,
      "outputs": []
    },
    {
      "cell_type": "markdown",
      "source": [
        "For PL Q4 below, your answer should now address the location x=0 on the plot."
      ],
      "metadata": {
        "id": "Yhxpm4hnd4OR"
      }
    },
    {
      "cell_type": "markdown",
      "metadata": {
        "id": "kNP-QzwTkwE0"
      },
      "source": [
        "> **PL Q4. Now, consider the location x=0.  What happens to the electric field and electric potential at this location?**"
      ]
    },
    {
      "cell_type": "code",
      "metadata": {
        "cellView": "form",
        "id": "GTvJNoygk-0j"
      },
      "source": [
        "PL_Q4 = \"\" #@param {type:\"string\"}\n",
        "\n"
      ],
      "execution_count": null,
      "outputs": []
    },
    {
      "cell_type": "markdown",
      "metadata": {
        "id": "9XiCoQmyMja_"
      },
      "source": [
        "---\n",
        "---\n",
        "---"
      ]
    },
    {
      "cell_type": "code",
      "metadata": {
        "id": "FhfrKul95bL3",
        "cellView": "form"
      },
      "source": [
        "#@title <font color=\"blue\">  To receive FULL CREDIT, you MUST run this cell AFTER completing the pre-lab and upload the PDF file to HuskyCT. To access the PDF, click on the \"File\" icon in the toolbar to the left.\n",
        "!pip install reportlab==3.6.2\n",
        "import datetime\n",
        "\n",
        "from reportlab.lib import colors\n",
        "from reportlab.lib.pagesizes import letter, inch, portrait\n",
        "from reportlab.platypus import SimpleDocTemplate, Table, TableStyle, Paragraph, Image, PageBreak\n",
        "from reportlab.lib.styles import getSampleStyleSheet\n",
        "\n",
        "Course_Number = \"1502Q\"\n",
        "PreLab_Number = \"PL04\"\n",
        "file_timestamp = datetime.datetime.today().strftime('%Y-%m')\n",
        "Section_Number = (Section)[0:3]\n",
        "\n",
        "doc = SimpleDocTemplate(str(file_timestamp)+\"_\"+str(Course_Number)+\n",
        "                        str(Section_Number)+\"_\"+str(PreLab_Number)+\n",
        "                        \"_\"+str(Name)+\".pdf\",\n",
        "                        pagesize=letter, rightMargin=50,\n",
        "                        leftMargin=50, topMargin=50,bottomMargin=50)\n",
        "doc.pagesize = portrait(letter)\n",
        "elements = []\n",
        "\n",
        "timestamp = datetime.datetime.now().isoformat()\n",
        "\n",
        "data = [\n",
        "[\"Name:\", Name],\n",
        "[\"timestamp:\", timestamp],\n",
        "[\"Course_Number:\", Course_Number],\n",
        "[\"Section_Number:\", Section_Number],\n",
        "[\"PreLab_Number:\", PreLab_Number],\n",
        "[\"PL Q1:\", PL_Q1],\n",
        "[\"PL Q2:\", PL_Q2],\n",
        "[\"PL Q3:\", PL_Q3],\n",
        "[\"PL Q4:\", PL_Q4],\n",
        "]\n",
        "\n",
        "#TODO: Get this line right instead of just copying it from the docs\n",
        "style = TableStyle([('ALIGN',(1,1),(-2,-2),'RIGHT'),\n",
        "                       ('TEXTCOLOR',(1,1),(-2,-2),colors.red),\n",
        "                       ('VALIGN',(0,0),(0,-1),'TOP'),\n",
        "                       ('TEXTCOLOR',(0,0),(0,-1),colors.blue),\n",
        "                       ('ALIGN',(0,-1),(-1,-1),'CENTER'),\n",
        "                       ('VALIGN',(0,-1),(-1,-1),'MIDDLE'),\n",
        "                       ('TEXTCOLOR',(0,-1),(-1,-1),colors.green),\n",
        "                       ('INNERGRID', (0,0), (-1,-1), 0.25, colors.black),\n",
        "                       ('BOX', (0,0), (-1,-1), 0.25, colors.black),\n",
        "                       ])\n",
        "\n",
        "#Configure style and word wrap\n",
        "s = getSampleStyleSheet()\n",
        "s = s[\"BodyText\"]\n",
        "s.wordWrap = 'CJK'\n",
        "data2 = [[Paragraph(cell, s) for cell in row] for row in data]\n",
        "t=Table(data2,colWidths=(100,None))\n",
        "t.setStyle(style)\n",
        "\n",
        "#Send the data and build the file\n",
        "elements.append(t)\n",
        "doc.build(elements)"
      ],
      "execution_count": null,
      "outputs": []
    },
    {
      "cell_type": "markdown",
      "metadata": {
        "id": "xv1AVh_nonyv"
      },
      "source": [
        "\n",
        "### <font color=\"black\"> $\\text{ }$\n"
      ]
    },
    {
      "cell_type": "markdown",
      "metadata": {
        "id": "X0GLUykSonyx"
      },
      "source": [
        "*"
      ]
    }
  ]
}